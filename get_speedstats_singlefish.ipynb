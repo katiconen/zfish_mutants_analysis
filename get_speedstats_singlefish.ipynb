{
 "cells": [
  {
   "cell_type": "markdown",
   "metadata": {},
   "source": [
    "## Calculate burst-glide statistics and lower frequency speed changes for each fish in a trial\n",
    "\n",
    "### Using speed data for each fish:\n",
    "   - identify time windows without tracking errors/gaps\n",
    "   - identify burst timing and features (max speed, peak-valley amplitude, rise time, fall time, potentially fit parameters)\n",
    "   - get sliding burst rate and smoothed speed over time for analyzing speed crosscorrelation in lower frequencies\n",
    "    "
   ]
  },
  {
   "cell_type": "code",
   "execution_count": 1,
   "metadata": {},
   "outputs": [],
   "source": [
    "#import needed modules\n",
    "import numpy as np\n",
    "import matplotlib.pyplot as plt\n",
    "import pickle\n",
    "import pandas as pd  # just using this to display things nicely\n",
    "import get_kinematics_adult as kin"
   ]
  },
  {
   "cell_type": "code",
   "execution_count": null,
   "metadata": {},
   "outputs": [],
   "source": [
    "# define directories and import list of lines\n",
    "datadir = '../data/'\n",
    "resultdir = 'savedresults/'\n",
    "\n",
    "[treatments] = pickle.load(open(resultdir+'treatmentlist.pkl','rb'))\n",
    "treatments = np.array(treatments)\n",
    "numtreatments = len(treatments)\n",
    "[focustreatments,notfocus] = pickle.load(open(resultdir+'focustreatmentlist.pkl','rb'))\n",
    "[allnumtrials] = pickle.load(open(resultdir+'allnumtrials.pkl','rb'))\n",
    "\n",
    "pxpercm = 4.02361434 * 10  # from tracker"
   ]
  },
  {
   "cell_type": "code",
   "execution_count": null,
   "metadata": {},
   "outputs": [],
   "source": [
    "#import single line\n",
    "tnum = 0  # select which line, 0 = WT\n",
    "treatment = treatments[tnum]\n",
    "numtrials = allnumtrials[tnum]\n",
    "[trial_speeds,trial_trajectories,trial_headings,trial_theta,\n",
    "            trial_smoothspeeds,trial_smoothtrajectories,trial_smoothheadings,\n",
    "            trial_ellipses,trial_arena,trial_sex,\n",
    "            datafiles,trial_trackingerrors] = pickle.load(open(datadir+treatment+'-alltrials.pkl','rb'))"
   ]
  },
  {
   "cell_type": "code",
   "execution_count": null,
   "metadata": {},
   "outputs": [],
   "source": [
    "#select single trial for line (alt: iterate through all trials for that line)"
   ]
  },
  {
   "cell_type": "code",
   "execution_count": null,
   "metadata": {},
   "outputs": [],
   "source": [
    "#get fishpair distances from trajectories"
   ]
  },
  {
   "cell_type": "markdown",
   "metadata": {},
   "source": [
    "## Identify frames with bad data for each fish"
   ]
  },
  {
   "cell_type": "code",
   "execution_count": null,
   "metadata": {},
   "outputs": [],
   "source": [
    "#initialize badData dataframe; types: nan, flatspeed, doubleID (note which), other"
   ]
  },
  {
   "cell_type": "code",
   "execution_count": null,
   "metadata": {},
   "outputs": [],
   "source": [
    "#define baddata for at least one fish in pair when dist < threshold (doubleID error)"
   ]
  },
  {
   "cell_type": "code",
   "execution_count": null,
   "metadata": {},
   "outputs": [],
   "source": [
    "#find flatspeed for each fish - speed does not change (or change < threshold) for >t duration; define as baddata"
   ]
  },
  {
   "cell_type": "code",
   "execution_count": null,
   "metadata": {},
   "outputs": [],
   "source": [
    "#find nans; "
   ]
  },
  {
   "cell_type": "code",
   "execution_count": null,
   "metadata": {},
   "outputs": [],
   "source": [
    "#maybe: interpolate speed and position for nans??"
   ]
  },
  {
   "cell_type": "markdown",
   "metadata": {},
   "source": [
    "## find bursts in speed trajectory\n",
    "\n",
    "   - Build on get_kinematics function for getting BGCycle\n",
    "   - Tweak parameters for burst detection (especially nback)\n",
    "   - Maybe: try w both smoothed and raw trajectories, see which is better\n",
    "   - Either only do for good trajectories, or note when burst is baddata"
   ]
  }
 ],
 "metadata": {
  "kernelspec": {
   "display_name": "Python 3",
   "language": "python",
   "name": "python3"
  },
  "language_info": {
   "codemirror_mode": {
    "name": "ipython",
    "version": 3
   },
   "file_extension": ".py",
   "mimetype": "text/x-python",
   "name": "python",
   "nbconvert_exporter": "python",
   "pygments_lexer": "ipython3",
   "version": "3.6.8"
  }
 },
 "nbformat": 4,
 "nbformat_minor": 2
}
