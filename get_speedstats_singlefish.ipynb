{
 "cells": [
  {
   "cell_type": "markdown",
   "metadata": {},
   "source": [
    "## Calculate burst-glide statistics and lower-frequency speed changes for each fish in a trial\n",
    "\n",
    "### Using speed data for each fish:\n",
    "   - identify time windows without tracking errors/gaps\n",
    "   - identify burst timing and features (max speed, peak-valley amplitude, rise time, fall time, potentially fit parameters)\n",
    "   - get sliding burst rate and smoothed speed over time for analyzing speed crosscorrelation in lower frequencies\n",
    "    "
   ]
  },
  {
   "cell_type": "code",
   "execution_count": 1,
   "metadata": {},
   "outputs": [],
   "source": [
    "#import needed modules\n",
    "import numpy as np\n",
    "import matplotlib.pyplot as plt\n",
    "import pickle\n",
    "import pandas as pd  # just using this to display things nicely\n",
    "import get_kinematics_adult as kin"
   ]
  },
  {
   "cell_type": "code",
   "execution_count": 2,
   "metadata": {},
   "outputs": [],
   "source": [
    "# define directories and import list of lines\n",
    "datadir = '../data/'\n",
    "resultdir = 'savedresults/'\n",
    "\n",
    "[treatments] = pickle.load(open(resultdir+'treatmentlist.pkl','rb'))\n",
    "treatments = np.array(treatments)\n",
    "numtreatments = len(treatments)\n",
    "[focustreatments,notfocus] = pickle.load(open(resultdir+'focustreatmentlist.pkl','rb'))\n",
    "[allnumtrials] = pickle.load(open(resultdir+'allnumtrials.pkl','rb'))\n",
    "\n",
    "pxpercm = 4.02361434 * 10  # from tracker"
   ]
  },
  {
   "cell_type": "code",
   "execution_count": 52,
   "metadata": {},
   "outputs": [],
   "source": [
    "#import single line\n",
    "tnum = 0  # select which line, 0 = WT\n",
    "treatment = treatments[tnum]\n",
    "numtrials = allnumtrials[tnum]\n",
    "[trial_speeds,trial_trajectories,trial_headings,trial_theta,\n",
    "            trial_smoothspeeds,trial_smoothtrajectories,trial_smoothheadings,\n",
    "            trial_ellipses,trial_arena,trial_sex,\n",
    "            datafiles,trial_trackingerrors] = pickle.load(open(datadir+treatment+'-alltrials.pkl','rb'))"
   ]
  },
  {
   "cell_type": "code",
   "execution_count": 51,
   "metadata": {},
   "outputs": [],
   "source": [
    "#load fishpair distances from file\n",
    "filename = datadir+treatment+'-dcoords+dist-heading.pkl'\n",
    "[trial_dcoords,trial_dist] = pickle.load(open(filename,'rb'))"
   ]
  },
  {
   "cell_type": "code",
   "execution_count": 80,
   "metadata": {},
   "outputs": [
    {
     "data": {
      "text/plain": [
       "array([[-1.16317914, -1.9180828 , -1.79156783, -1.06572235, -1.82983046,\n",
       "        -1.34165018],\n",
       "       [-1.16939637, -1.88617661, -1.79994801, -1.10705365, -1.83903158,\n",
       "        -1.3358294 ],\n",
       "       [-1.16814989, -1.807371  , -1.66897862, -1.18188492, -1.8484831 ,\n",
       "        -1.32891067],\n",
       "       ...,\n",
       "       [-0.11442442,         nan,  2.41916635,         nan,  2.44419482,\n",
       "        -0.64016974],\n",
       "       [-0.12035425,         nan,  2.35126817,         nan,  2.45406425,\n",
       "        -0.60138212],\n",
       "       [-0.097265  ,         nan,  2.32842505,         nan,  2.49272354,\n",
       "        -0.57112364]])"
      ]
     },
     "execution_count": 80,
     "metadata": {},
     "output_type": "execute_result"
    }
   ],
   "source": [
    "trial_headings[0]"
   ]
  },
  {
   "cell_type": "code",
   "execution_count": 22,
   "metadata": {},
   "outputs": [],
   "source": [
    "#select single trial for line and fish to include in analysis \n",
    "#(later: setup to iterate through all trials & save relevant data)\n",
    "trialnum = 0\n",
    "fishIncl = np.arange(6)\n",
    "nframes = trial_trajectories[trialnum].shape[0]\n",
    "#x = trial_trajectories[trialnum][:,fishIncl,0]\n",
    "#y = trial_trajectories[trialnum][:,fishIncl,1]\n",
    "#errs = trial_trackingerrors[trialnum][:,fishIncl]"
   ]
  },
  {
   "cell_type": "markdown",
   "metadata": {},
   "source": [
    "## Identify frames with bad data for each fish"
   ]
  },
  {
   "cell_type": "code",
   "execution_count": 42,
   "metadata": {},
   "outputs": [],
   "source": [
    "#initialize badData dataframe; types: nan, flatspeed, doubleID (note which), other\n",
    "errType = pd.DataFrame(np.zeros([nframes,fishIncl.size], dtype=int), columns = ['fish0','fish1','fish2','fish3','fish4','fish5'])\n",
    "errType.index.name = 'frame'\n",
    "errType.head()\n",
    "errCode = {0: 'noError',\n",
    " 1: 'missing',\n",
    " 2: 'flatSpeed',\n",
    " 30: 'doubleID_0',\n",
    " 31: 'doubleID_1',\n",
    " 32: 'doubleID_2',\n",
    " 33: 'doubleID_3',\n",
    " 34: 'doubleID_4',\n",
    " 35: 'doubleID_5'}"
   ]
  },
  {
   "cell_type": "code",
   "execution_count": 91,
   "metadata": {},
   "outputs": [
    {
     "data": {
      "text/html": [
       "<div>\n",
       "<style scoped>\n",
       "    .dataframe tbody tr th:only-of-type {\n",
       "        vertical-align: middle;\n",
       "    }\n",
       "\n",
       "    .dataframe tbody tr th {\n",
       "        vertical-align: top;\n",
       "    }\n",
       "\n",
       "    .dataframe thead th {\n",
       "        text-align: right;\n",
       "    }\n",
       "</style>\n",
       "<table border=\"1\" class=\"dataframe\">\n",
       "  <thead>\n",
       "    <tr style=\"text-align: right;\">\n",
       "      <th></th>\n",
       "      <th>fish0</th>\n",
       "      <th>fish1</th>\n",
       "      <th>fish2</th>\n",
       "      <th>fish3</th>\n",
       "      <th>fish4</th>\n",
       "      <th>fish5</th>\n",
       "    </tr>\n",
       "    <tr>\n",
       "      <th>frame</th>\n",
       "      <th></th>\n",
       "      <th></th>\n",
       "      <th></th>\n",
       "      <th></th>\n",
       "      <th></th>\n",
       "      <th></th>\n",
       "    </tr>\n",
       "  </thead>\n",
       "  <tbody>\n",
       "    <tr>\n",
       "      <td>100</td>\n",
       "      <td>1</td>\n",
       "      <td>1</td>\n",
       "      <td>0</td>\n",
       "      <td>0</td>\n",
       "      <td>0</td>\n",
       "      <td>0</td>\n",
       "    </tr>\n",
       "    <tr>\n",
       "      <td>102</td>\n",
       "      <td>1</td>\n",
       "      <td>1</td>\n",
       "      <td>0</td>\n",
       "      <td>0</td>\n",
       "      <td>0</td>\n",
       "      <td>0</td>\n",
       "    </tr>\n",
       "    <tr>\n",
       "      <td>117</td>\n",
       "      <td>1</td>\n",
       "      <td>0</td>\n",
       "      <td>0</td>\n",
       "      <td>0</td>\n",
       "      <td>0</td>\n",
       "      <td>0</td>\n",
       "    </tr>\n",
       "    <tr>\n",
       "      <td>118</td>\n",
       "      <td>1</td>\n",
       "      <td>0</td>\n",
       "      <td>0</td>\n",
       "      <td>0</td>\n",
       "      <td>0</td>\n",
       "      <td>0</td>\n",
       "    </tr>\n",
       "    <tr>\n",
       "      <td>119</td>\n",
       "      <td>1</td>\n",
       "      <td>0</td>\n",
       "      <td>0</td>\n",
       "      <td>0</td>\n",
       "      <td>0</td>\n",
       "      <td>0</td>\n",
       "    </tr>\n",
       "    <tr>\n",
       "      <td>...</td>\n",
       "      <td>...</td>\n",
       "      <td>...</td>\n",
       "      <td>...</td>\n",
       "      <td>...</td>\n",
       "      <td>...</td>\n",
       "      <td>...</td>\n",
       "    </tr>\n",
       "    <tr>\n",
       "      <td>107788</td>\n",
       "      <td>1</td>\n",
       "      <td>1</td>\n",
       "      <td>0</td>\n",
       "      <td>0</td>\n",
       "      <td>1</td>\n",
       "      <td>0</td>\n",
       "    </tr>\n",
       "    <tr>\n",
       "      <td>107789</td>\n",
       "      <td>1</td>\n",
       "      <td>1</td>\n",
       "      <td>0</td>\n",
       "      <td>1</td>\n",
       "      <td>1</td>\n",
       "      <td>0</td>\n",
       "    </tr>\n",
       "    <tr>\n",
       "      <td>107790</td>\n",
       "      <td>1</td>\n",
       "      <td>1</td>\n",
       "      <td>0</td>\n",
       "      <td>1</td>\n",
       "      <td>1</td>\n",
       "      <td>0</td>\n",
       "    </tr>\n",
       "    <tr>\n",
       "      <td>107804</td>\n",
       "      <td>1</td>\n",
       "      <td>1</td>\n",
       "      <td>0</td>\n",
       "      <td>0</td>\n",
       "      <td>1</td>\n",
       "      <td>0</td>\n",
       "    </tr>\n",
       "    <tr>\n",
       "      <td>107806</td>\n",
       "      <td>1</td>\n",
       "      <td>1</td>\n",
       "      <td>0</td>\n",
       "      <td>0</td>\n",
       "      <td>1</td>\n",
       "      <td>0</td>\n",
       "    </tr>\n",
       "  </tbody>\n",
       "</table>\n",
       "<p>9678 rows × 6 columns</p>\n",
       "</div>"
      ],
      "text/plain": [
       "        fish0  fish1  fish2  fish3  fish4  fish5\n",
       "frame                                           \n",
       "100         1      1      0      0      0      0\n",
       "102         1      1      0      0      0      0\n",
       "117         1      0      0      0      0      0\n",
       "118         1      0      0      0      0      0\n",
       "119         1      0      0      0      0      0\n",
       "...       ...    ...    ...    ...    ...    ...\n",
       "107788      1      1      0      0      1      0\n",
       "107789      1      1      0      1      1      0\n",
       "107790      1      1      0      1      1      0\n",
       "107804      1      1      0      0      1      0\n",
       "107806      1      1      0      0      1      0\n",
       "\n",
       "[9678 rows x 6 columns]"
      ]
     },
     "execution_count": 91,
     "metadata": {},
     "output_type": "execute_result"
    }
   ],
   "source": [
    "#add nans/missing data to errType\n",
    "errs = trial_trackingerrors[trialnum][:,fishIncl]\n",
    "errType[errs] = 1"
   ]
  },
  {
   "cell_type": "code",
   "execution_count": null,
   "metadata": {},
   "outputs": [],
   "source": [
    "#find flatspeed for each fish - speed does not change (or change < threshold) for >t duration; define as baddata"
   ]
  },
  {
   "cell_type": "code",
   "execution_count": 132,
   "metadata": {},
   "outputs": [],
   "source": [
    "#define baddata for at least one fish in pair when [dist,oridiff] < threshold (doubleID error)\n",
    "\n",
    "#for each fishpair, each time point, get distance (trial_dist from file) and orientation diff (subtr heading)\n",
    "dthresh = pxpercm #1 cm, ~40 pixels; same threshold used in paper; I may use looser threshold\n",
    "othresh = .2 #taken from paper\n",
    "\n",
    "for i in fishIncl:\n",
    "    col0 = errType.columns[i]\n",
    "    errcode1 = 30 + i\n",
    "    for j in range(i+1,fishIncl.size):\n",
    "        col1 = errType.columns[j]\n",
    "        errcode0 = 30 +j\n",
    "        dpair = trial_dist[trialnum][:,i,j] #check that index is right\n",
    "        dpair[np.isnan(dpair)] = 100 #set nans to high values to avoid invalid values and false errID\n",
    "        oridiff = trial_headings[trialnum][:,i]-trial_headings[trialnum][:,j]\n",
    "        oridiff[np.isnan(oridiff)] = 6 #set nans to high values to avoid invalid values and false errID\n",
    "        indErr = (abs(oridiff) < othresh) & (dpair < dthresh)\n",
    "        errType.loc[indErr,col0] = errcode0\n",
    "        errType.loc[indErr,col1] = errcode1"
   ]
  },
  {
   "cell_type": "code",
   "execution_count": 141,
   "metadata": {},
   "outputs": [
    {
     "data": {
      "text/plain": [
       "1900.768095714322"
      ]
     },
     "execution_count": 141,
     "metadata": {},
     "output_type": "execute_result"
    },
    {
     "data": {
      "image/png": "[encoded data removed]",
      "text/plain": [
       "<Figure size 432x288 with 1 Axes>"
      ]
     },
     "metadata": {
      "needs_background": "light"
     },
     "output_type": "display_data"
    }
   ],
   "source": [
    "plt.scatter(abs(oridiff[dpair<100]),dpair[dpair<100], s = 1)\n",
    "np.max(dpair)\n"
   ]
  },
  {
   "cell_type": "code",
   "execution_count": null,
   "metadata": {},
   "outputs": [],
   "source": [
    "#maybe: interpolate speed and position for nans??"
   ]
  },
  {
   "cell_type": "markdown",
   "metadata": {},
   "source": [
    "## find bursts in speed trajectory\n",
    "\n",
    "   - Build on get_kinematics function for getting BGCycle\n",
    "   - Tweak parameters for burst detection (especially nback)\n",
    "   - Maybe: try w both smoothed and raw trajectories, see which is better\n",
    "   - Either only do for good trajectories, or note when burst is baddata"
   ]
  }
 ],
 "metadata": {
  "kernelspec": {
   "display_name": "Python 3",
   "language": "python",
   "name": "python3"
  },
  "language_info": {
   "codemirror_mode": {
    "name": "ipython",
    "version": 3
   },
   "file_extension": ".py",
   "mimetype": "text/x-python",
   "name": "python",
   "nbconvert_exporter": "python",
   "pygments_lexer": "ipython3",
   "version": "3.6.8"
  }
 },
 "nbformat": 4,
 "nbformat_minor": 2
}
